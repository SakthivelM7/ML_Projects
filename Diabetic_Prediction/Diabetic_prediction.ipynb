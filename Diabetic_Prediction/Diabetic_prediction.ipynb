{
 "cells": [
  {
   "cell_type": "code",
   "execution_count": 1,
   "id": "da399848-be3c-4df6-8fa7-a03338d66200",
   "metadata": {},
   "outputs": [],
   "source": [
    "import numpy as np\n",
    "import pandas as pd\n",
    "import matplotlib.pyplot as plt"
   ]
  },
  {
   "cell_type": "code",
   "execution_count": null,
   "id": "2fcd87e4-7017-41f5-b056-d9469367af8f",
   "metadata": {},
   "outputs": [],
   "source": [
    "df = pd.read_excel('pima-data.xlsx')\n",
    "df"
   ]
  },
  {
   "cell_type": "markdown",
   "id": "ce06571c-ff00-4ae6-b233-473883537a08",
   "metadata": {},
   "source": [
    "# checking correlation"
   ]
  },
  {
   "cell_type": "code",
   "execution_count": null,
   "id": "d479053e-2407-4464-8dd4-76e835b0fee3",
   "metadata": {},
   "outputs": [],
   "source": [
    "df.shape"
   ]
  },
  {
   "cell_type": "code",
   "execution_count": null,
   "id": "f600d296-de4b-4595-bc0f-8882b1ac28c6",
   "metadata": {},
   "outputs": [],
   "source": [
    "df.isnull()"
   ]
  },
  {
   "cell_type": "code",
   "execution_count": null,
   "id": "5d27707c-cc2b-4fbe-802c-1ab0ff0a4bbc",
   "metadata": {},
   "outputs": [],
   "source": [
    "df.isnull().values.any()"
   ]
  },
  {
   "cell_type": "code",
   "execution_count": null,
   "id": "5eb4c334-4b02-4d54-98e3-4ff86bec71b4",
   "metadata": {},
   "outputs": [],
   "source": [
    "df.info()"
   ]
  },
  {
   "cell_type": "markdown",
   "id": "990a0f89-2bb2-4a73-80f7-e6726b5c43a7",
   "metadata": {},
   "source": [
    "# b. checking correlation"
   ]
  },
  {
   "cell_type": "code",
   "execution_count": null,
   "id": "7ca40dbc-be16-4f16-8434-8b5f793d7033",
   "metadata": {},
   "outputs": [],
   "source": [
    "corr = df.corr()\n",
    "fig,ax=plt.subplots(figsize=(10,10))\n",
    "ax.matshow(corr)\n",
    "plt.xticks(range(len(corr.columns)),corr.columns,rotation=46)\n",
    "plt.yticks(range(len(corr.columns)),corr.columns)\n",
    "plt.show()"
   ]
  },
  {
   "cell_type": "code",
   "execution_count": null,
   "id": "e4398440-1523-4eb5-a6ca-d3e9128ccf60",
   "metadata": {},
   "outputs": [],
   "source": [
    "corr = df.corr()\n",
    "fig,ax=plt.subplots(figsize=(10,10))\n",
    "cmap = 'plasma'\n",
    "ax.matshow(corr,cmap=cmap)\n",
    "plt.xticks(range(len(corr.columns)),corr.columns,rotation=46)\n",
    "plt.yticks(range(len(corr.columns)),corr.columns)\n",
    "plt.show()"
   ]
  },
  {
   "cell_type": "markdown",
   "id": "f478b3cd-a638-4bd1-9669-abeeca97d8d8",
   "metadata": {},
   "source": [
    "# thickness is correlated with skin\n",
    "# has_diabetes is correlated with diabetes_orgin\n",
    "# diabetes is correlated with diabetes_orgin"
   ]
  },
  {
   "cell_type": "code",
   "execution_count": null,
   "id": "a1ca8071-dbe3-43e5-b61c-5052260b49c5",
   "metadata": {},
   "outputs": [],
   "source": [
    "df.drop('thickness',axis=1,inplace=True)\n",
    "df.drop('has_diabetes',axis=1,inplace=True)\n",
    "df.drop('diabetes_orig',axis=1,inplace=True)"
   ]
  },
  {
   "cell_type": "code",
   "execution_count": null,
   "id": "2be3d9ed-6785-4403-9a07-f497d6cf0c7c",
   "metadata": {},
   "outputs": [],
   "source": [
    "df"
   ]
  },
  {
   "cell_type": "markdown",
   "id": "e9e6302e-8436-443c-a68c-7a3552d0af56",
   "metadata": {},
   "source": [
    "# check any data is available or not if available modify with integer value"
   ]
  },
  {
   "cell_type": "code",
   "execution_count": null,
   "id": "f6a8fb28-7fab-4272-8fad-3937ae72cd8f",
   "metadata": {},
   "outputs": [],
   "source": [
    "dict1={'diabetes':[True,False]}\n",
    "dict2={'diabetes':[1,0]}\n",
    "df.replace(dict1,dict2,inplace=True)"
   ]
  },
  {
   "cell_type": "code",
   "execution_count": null,
   "id": "9a1224f9-3390-46f8-8a56-9dbdd5358c74",
   "metadata": {},
   "outputs": [],
   "source": [
    "df"
   ]
  },
  {
   "cell_type": "markdown",
   "id": "dec01b16-bb33-4d88-8266-0d89c3c2f413",
   "metadata": {},
   "source": [
    "# check the data is balanced or not"
   ]
  },
  {
   "cell_type": "code",
   "execution_count": null,
   "id": "1ef99708-9d3a-4029-9642-c7f3438ef918",
   "metadata": {},
   "outputs": [],
   "source": [
    "num_true=len(df.loc[df['diabetes']==1])\n",
    "num_false=len(df.loc[df['diabetes']==0])\n",
    "\n",
    "print(f'num_true ={num_true}')\n",
    "print(f'num_false ={num_false}')\n",
    "\n",
    "per_num_true=(num_true / (num_true+num_false))*100\n",
    "print(per_num_true)\n",
    "\n",
    "per_num_false=(num_false / (num_false+num_true))*100\n",
    "print(per_num_false)\n"
   ]
  },
  {
   "cell_type": "markdown",
   "id": "8befd8d8-0ff7-47a7-b4c1-8b3ae04110ac",
   "metadata": {},
   "source": [
    "# How to handle imbalance data \n",
    "# by using sampling techniques 1. under sampling 2. over sampling 3. smote technique(synthetic minority over sampling techniques)"
   ]
  },
  {
   "cell_type": "code",
   "execution_count": null,
   "id": "5d9a2871-0eaf-499b-aec3-6e0214f3809a",
   "metadata": {},
   "outputs": [],
   "source": [
    "from sklearn.model_selection import train_test_split\n",
    "feature_col_names =['num_preg','glucose_conc','diastolic_bp','thickness','insulin','bmi','diab_pred','age',]\n",
    "predicted_class_names=['diabetes']\n",
    "\n",
    "x=df[feature_col_names].values\n",
    "y=df[predicted_class_names].values\n",
    "\n",
    "split_test_size=0.30\n",
    "\n",
    "x_train,x_test,y_train,y_test=train_test_split(x,y,test_size=split_test_size,random_state=42)"
   ]
  },
  {
   "cell_type": "code",
   "execution_count": null,
   "id": "1b13ec0e-8dc1-447e-adad-74a961673703",
   "metadata": {},
   "outputs": [],
   "source": []
  },
  {
   "cell_type": "code",
   "execution_count": null,
   "id": "c3890cd3-e646-4215-8f21-47180a56dd44",
   "metadata": {},
   "outputs": [],
   "source": []
  }
 ],
 "metadata": {
  "kernelspec": {
   "display_name": "Python 3 (ipykernel)",
   "language": "python",
   "name": "python3"
  },
  "language_info": {
   "codemirror_mode": {
    "name": "ipython",
    "version": 3
   },
   "file_extension": ".py",
   "mimetype": "text/x-python",
   "name": "python",
   "nbconvert_exporter": "python",
   "pygments_lexer": "ipython3",
   "version": "3.9.8"
  }
 },
 "nbformat": 4,
 "nbformat_minor": 5
}
